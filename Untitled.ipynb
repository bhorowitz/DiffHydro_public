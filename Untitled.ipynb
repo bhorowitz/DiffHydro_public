{
 "cells": [
  {
   "cell_type": "code",
   "execution_count": 1,
   "metadata": {},
   "outputs": [
    {
     "name": "stdout",
     "output_type": "stream",
     "text": [
      "Thu Oct  9 12:05:17 2025       \n",
      "+---------------------------------------------------------------------------------------+\n",
      "| NVIDIA-SMI 530.30.02              Driver Version: 530.30.02    CUDA Version: 12.1     |\n",
      "|-----------------------------------------+----------------------+----------------------+\n",
      "| GPU  Name                  Persistence-M| Bus-Id        Disp.A | Volatile Uncorr. ECC |\n",
      "| Fan  Temp  Perf            Pwr:Usage/Cap|         Memory-Usage | GPU-Util  Compute M. |\n",
      "|                                         |                      |               MIG M. |\n",
      "|=========================================+======================+======================|\n",
      "|   0  NVIDIA GeForce RTX 2080 Ti      Off| 00000000:1A:00.0 Off |                  N/A |\n",
      "| 17%   42C    P2               52W / 250W|   2041MiB / 11264MiB |      4%      Default |\n",
      "|                                         |                      |                  N/A |\n",
      "+-----------------------------------------+----------------------+----------------------+\n",
      "|   1  NVIDIA GeForce RTX 2080 Ti      Off| 00000000:1B:00.0 Off |                  N/A |\n",
      "| 16%   31C    P8               19W / 250W|      1MiB / 11264MiB |      0%      Default |\n",
      "|                                         |                      |                  N/A |\n",
      "+-----------------------------------------+----------------------+----------------------+\n",
      "|   2  Tesla V100-PCIE-32GB            Off| 00000000:1F:00.0 Off |                    0 |\n",
      "| N/A   36C    P0               25W / 250W|      0MiB / 32768MiB |      0%      Default |\n",
      "|                                         |                      |                  N/A |\n",
      "+-----------------------------------------+----------------------+----------------------+\n",
      "|   3  Tesla V100-PCIE-32GB            Off| 00000000:20:00.0 Off |                    0 |\n",
      "| N/A   36C    P0               23W / 250W|      0MiB / 32768MiB |      0%      Default |\n",
      "|                                         |                      |                  N/A |\n",
      "+-----------------------------------------+----------------------+----------------------+\n",
      "|   4  Tesla V100-PCIE-32GB            Off| 00000000:21:00.0 Off |                    0 |\n",
      "| N/A   37C    P0               26W / 250W|      0MiB / 32768MiB |      0%      Default |\n",
      "|                                         |                      |                  N/A |\n",
      "+-----------------------------------------+----------------------+----------------------+\n",
      "|   5  Tesla V100-PCIE-32GB            Off| 00000000:22:00.0 Off |                    0 |\n",
      "| N/A   42C    P0               37W / 250W|  25350MiB / 32768MiB |      0%      Default |\n",
      "|                                         |                      |                  N/A |\n",
      "+-----------------------------------------+----------------------+----------------------+\n",
      "|   6  NVIDIA GeForce RTX 2080 Ti      Off| 00000000:23:00.0 Off |                  N/A |\n",
      "| 16%   30C    P8               16W / 250W|  10436MiB / 11264MiB |      0%      Default |\n",
      "|                                         |                      |                  N/A |\n",
      "+-----------------------------------------+----------------------+----------------------+\n",
      "|   7  NVIDIA GeForce RTX 2080 Ti      Off| 00000000:24:00.0 Off |                  N/A |\n",
      "| 16%   34C    P0               70W / 250W|      1MiB / 11264MiB |     32%      Default |\n",
      "|                                         |                      |                  N/A |\n",
      "+-----------------------------------------+----------------------+----------------------+\n",
      "                                                                                         \n",
      "+---------------------------------------------------------------------------------------+\n",
      "| Processes:                                                                            |\n",
      "|  GPU   GI   CI        PID   Type   Process name                            GPU Memory |\n",
      "|        ID   ID                                                             Usage      |\n",
      "|=======================================================================================|\n",
      "|    0   N/A  N/A      5896      G   /usr/bin/X                                    9MiB |\n",
      "|    0   N/A  N/A     11759      G   /usr/bin/gnome-shell                          6MiB |\n",
      "|    0   N/A  N/A     25431      C   .../.pyenv/versions/3.11.11/bin/python     2020MiB |\n",
      "|    5   N/A  N/A     18666      C   ...witz/miniconda3/envs/af2/bin/python    25346MiB |\n",
      "|    6   N/A  N/A    115991      C   ...z/miniconda3/envs/jax312/bin/python    10432MiB |\n",
      "+---------------------------------------------------------------------------------------+\n"
     ]
    }
   ],
   "source": [
    "##basic test...\n",
    "!nvidia-smi"
   ]
  },
  {
   "cell_type": "code",
   "execution_count": 2,
   "metadata": {},
   "outputs": [],
   "source": [
    "#hack till I make it a real package..\n",
    "\n",
    "#hack till I make it a real package..\n",
    "import os\n",
    "\n",
    "#using GPU, comment out if on CPU\n",
    "os.environ['CUDA_DEVICE_ORDER'] = 'PCI_BUS_ID'\n",
    "os.environ['CUDA_VISIBLE_DEVICES'] = '7'\n",
    "import jax \n",
    "jax.config.update('jax_debug_nans', True)\n",
    "#jax.config.update('jax_disable_jit', True)\n"
   ]
  },
  {
   "cell_type": "code",
   "execution_count": 3,
   "metadata": {},
   "outputs": [],
   "source": [
    "import diffhydro as dh"
   ]
  },
  {
   "cell_type": "code",
   "execution_count": null,
   "metadata": {},
   "outputs": [],
   "source": []
  },
  {
   "cell_type": "code",
   "execution_count": 4,
   "metadata": {},
   "outputs": [],
   "source": [
    "eq = dh.equationmanager.EquationManager()\n",
    "ss = dh.signal_speed_Rusanov\n",
    "solver = dh.HLLC(equation_manager=eq,signal_speed=ss)"
   ]
  },
  {
   "cell_type": "code",
   "execution_count": 5,
   "metadata": {},
   "outputs": [],
   "source": [
    "eq._set_transport_properties(None)"
   ]
  },
  {
   "cell_type": "code",
   "execution_count": 6,
   "metadata": {},
   "outputs": [],
   "source": [
    "cf = dh.ConductiveFlux(eq,solver,dh.MUSCL3(limiter=\"SUPERBEE\"),)"
   ]
  },
  {
   "cell_type": "code",
   "execution_count": null,
   "metadata": {},
   "outputs": [],
   "source": []
  },
  {
   "cell_type": "code",
   "execution_count": 20,
   "metadata": {},
   "outputs": [
    {
     "name": "stderr",
     "output_type": "stream",
     "text": [
      "'+ptx89' is not a recognized feature for this target (ignoring feature)\n",
      "'+ptx89' is not a recognized feature for this target (ignoring feature)\n",
      "'+ptx89' is not a recognized feature for this target (ignoring feature)\n"
     ]
    }
   ],
   "source": [
    "hydrosim = dh.hydro(n_super_step=3000,fluxes=[cf],maxjit=True)"
   ]
  },
  {
   "cell_type": "code",
   "execution_count": 21,
   "metadata": {},
   "outputs": [],
   "source": [
    "import jax.numpy as jnp\n",
    "from scipy import ndimage\n",
    "def sedov_2d(E0,rho):\n",
    "        #doesn't really work yet for non-square boxes...\n",
    "        dV = (100)**2\n",
    "        hc = int(100/2)-1\n",
    "        sol = jnp.zeros((5,100,100,100))\n",
    "        sol = sol.at[0].set(rho)\n",
    "        sol = sol.at[-1].set(1.0E-3)\n",
    "        sol = sol.at[4,hc,hc,hc].set(E0/dV)\n",
    "        sol = sol.at[-1].set(jnp.array(ndimage.gaussian_filter(sol[-1],2)))\n",
    "\n",
    "        rmax = 3.0*(100/2.0)/4.0\n",
    "        tf = jnp.sqrt((rmax/1.15)**5/E0)\n",
    "        return sol, tf"
   ]
  },
  {
   "cell_type": "code",
   "execution_count": 22,
   "metadata": {},
   "outputs": [],
   "source": [
    "U,_ = sedov_2d(1E7,10)"
   ]
  },
  {
   "cell_type": "code",
   "execution_count": 23,
   "metadata": {},
   "outputs": [
    {
     "name": "stdout",
     "output_type": "stream",
     "text": [
      "Populating the interactive namespace from numpy and matplotlib\n"
     ]
    }
   ],
   "source": [
    "%pylab inline\n"
   ]
  },
  {
   "cell_type": "code",
   "execution_count": 24,
   "metadata": {},
   "outputs": [
    {
     "data": {
      "text/plain": [
       "<matplotlib.image.AxesImage at 0x7fbfa4f29670>"
      ]
     },
     "execution_count": 24,
     "metadata": {},
     "output_type": "execute_result"
    },
    {
     "data": {
      "image/png": "[encoded data removed]",
      "text/plain": [
       "<Figure size 432x288 with 1 Axes>"
      ]
     },
     "metadata": {
      "needs_background": "light"
     },
     "output_type": "display_data"
    }
   ],
   "source": [
    "plt.imshow(U[-1,49])"
   ]
  },
  {
   "cell_type": "code",
   "execution_count": null,
   "metadata": {},
   "outputs": [],
   "source": []
  },
  {
   "cell_type": "code",
   "execution_count": 25,
   "metadata": {},
   "outputs": [],
   "source": [
    "\n",
    "primitives = eq.get_primitives_from_conservatives(U)\n",
    "\n",
    "temperature = eq.get_temperature(primitives[eq.energy_ids],primitives[eq.mass_ids])\n",
    "#eq.get_thermal_conductivity(temperature,primitives)"
   ]
  },
  {
   "cell_type": "code",
   "execution_count": 26,
   "metadata": {},
   "outputs": [],
   "source": [
    "#imshow(eq.get_thermal_conductivity(temperature,primitives)[49])\n"
   ]
  },
  {
   "cell_type": "code",
   "execution_count": 27,
   "metadata": {
    "tags": []
   },
   "outputs": [
    {
     "name": "stdout",
     "output_type": "stream",
     "text": [
      "dt_thermal Traced<ShapedArray(float32[])>with<DynamicJaxprTrace(level=2/0)>\n",
      "dt [Traced<ShapedArray(float32[])>with<DynamicJaxprTrace(level=2/0)>, 10000000000.0]\n"
     ]
    },
    {
     "name": "stderr",
     "output_type": "stream",
     "text": [
      "'+ptx89' is not a recognized feature for this target (ignoring feature)\n",
      "'+ptx89' is not a recognized feature for this target (ignoring feature)\n",
      "'+ptx89' is not a recognized feature for this target (ignoring feature)\n"
     ]
    }
   ],
   "source": [
    "params = {}\n",
    "q = hydrosim.evolve(U,params)"
   ]
  },
  {
   "cell_type": "code",
   "execution_count": 28,
   "metadata": {},
   "outputs": [
    {
     "data": {
      "text/plain": [
       "(Array(2.8820498, dtype=float32), Array(7.938115, dtype=float32))"
      ]
     },
     "execution_count": 28,
     "metadata": {},
     "output_type": "execute_result"
    }
   ],
   "source": [
    "q[0][-1].max(), U[-1].max()"
   ]
  },
  {
   "cell_type": "code",
   "execution_count": 29,
   "metadata": {},
   "outputs": [
    {
     "name": "stdout",
     "output_type": "stream",
     "text": [
      "dt_thermal 217.48491\n",
      "dt [Array(217.48491, dtype=float32), 10000000000.0]\n",
      "dt_thermal 59.883404\n",
      "dt [Array(59.883404, dtype=float32), 10000000000.0]\n"
     ]
    },
    {
     "data": {
      "text/plain": [
       "(Array(217.48491, dtype=float32), Array(59.883404, dtype=float32))"
      ]
     },
     "execution_count": 29,
     "metadata": {},
     "output_type": "execute_result"
    }
   ],
   "source": [
    "hydrosim.timestep(q[0]),hydrosim.timestep(U)"
   ]
  },
  {
   "cell_type": "code",
   "execution_count": 30,
   "metadata": {},
   "outputs": [
    {
     "name": "stdout",
     "output_type": "stream",
     "text": [
      "Populating the interactive namespace from numpy and matplotlib\n"
     ]
    },
    {
     "data": {
      "image/png": "[encoded data removed]",
      "text/plain": [
       "<Figure size 576x576 with 2 Axes>"
      ]
     },
     "metadata": {
      "needs_background": "light"
     },
     "output_type": "display_data"
    },
    {
     "data": {
      "image/png": "[encoded data removed]",
      "text/plain": [
       "<Figure size 576x576 with 2 Axes>"
      ]
     },
     "metadata": {
      "needs_background": "light"
     },
     "output_type": "display_data"
    }
   ],
   "source": [
    "%pylab inline\n",
    "plt.figure(figsize=(8,8))\n",
    "#should be a spherical blob...\n",
    "imshow(q[0][-1][:,:,49])\n",
    "colorbar()\n",
    "show()\n",
    "plt.figure(figsize=(8,8))\n",
    "\n",
    "imshow(U[-1][:,:,49])\n",
    "colorbar()\n",
    "show()\n"
   ]
  },
  {
   "cell_type": "code",
   "execution_count": 31,
   "metadata": {},
   "outputs": [
    {
     "data": {
      "text/plain": [
       "[<matplotlib.lines.Line2D at 0x7fbf9b75ef70>]"
      ]
     },
     "execution_count": 31,
     "metadata": {},
     "output_type": "execute_result"
    },
    {
     "data": {
      "image/png": "[encoded data removed]",
      "text/plain": [
       "<Figure size 576x576 with 1 Axes>"
      ]
     },
     "metadata": {
      "needs_background": "light"
     },
     "output_type": "display_data"
    }
   ],
   "source": [
    "plt.figure(figsize=(8,8))\n",
    "\n",
    "plt.plot(U[-1][:,49,49],)\n",
    "plt.plot(q[0][-1][:,49,49],\"r\")\n"
   ]
  },
  {
   "cell_type": "code",
   "execution_count": 19,
   "metadata": {},
   "outputs": [
    {
     "name": "stderr",
     "output_type": "stream",
     "text": [
      "'+ptx89' is not a recognized feature for this target (ignoring feature)\n",
      "'+ptx89' is not a recognized feature for this target (ignoring feature)\n",
      "'+ptx89' is not a recognized feature for this target (ignoring feature)\n"
     ]
    },
    {
     "data": {
      "text/plain": [
       "(Array(1999.999, dtype=float32), Array(1999.9976, dtype=float32))"
      ]
     },
     "execution_count": 19,
     "metadata": {},
     "output_type": "execute_result"
    }
   ],
   "source": [
    "U[-1].sum(),q[0][-1].sum()"
   ]
  },
  {
   "cell_type": "code",
   "execution_count": null,
   "metadata": {},
   "outputs": [],
   "source": []
  },
  {
   "cell_type": "code",
   "execution_count": null,
   "metadata": {},
   "outputs": [],
   "source": []
  }
 ],
 "metadata": {
  "kernelspec": {
   "display_name": "AF2",
   "language": "python",
   "name": "af2"
  },
  "language_info": {
   "codemirror_mode": {
    "name": "ipython",
    "version": 3
   },
   "file_extension": ".py",
   "mimetype": "text/x-python",
   "name": "python",
   "nbconvert_exporter": "python",
   "pygments_lexer": "ipython3",
   "version": "3.9.23"
  }
 },
 "nbformat": 4,
 "nbformat_minor": 4
}
